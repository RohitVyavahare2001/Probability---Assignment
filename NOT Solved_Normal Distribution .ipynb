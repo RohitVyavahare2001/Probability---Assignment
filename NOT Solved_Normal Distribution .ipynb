{
 "cells": [
  {
   "cell_type": "markdown",
   "id": "ad0e681e",
   "metadata": {},
   "source": [
    "# Question 5\n",
    "\n",
    "\n",
    "Write a python program to plot the  the distribution of the given plot Varying Positional Arguments"
   ]
  },
  {
   "cell_type": "markdown",
   "id": "91a20f2e",
   "metadata": {},
   "source": [
    "# Question 7\n",
    "\n",
    "\n",
    " Calculating Probability of Specific Data Occurrence, if we were asked to pick one person randomly from this distribution, then what is the probability that the height of the person will be smaller than 4.5 ft. ?\n"
   ]
  },
  {
   "cell_type": "markdown",
   "id": "0221d5e1",
   "metadata": {},
   "source": [
    "# Question 8\n",
    "pick one person randomly from this distribution, then what is the probability that the height\n",
    "of the person will be between 6.5 and 4.5 ft. ?\n",
    "Area Under The Curve Between 4.5 And 6.5 Ft\n"
   ]
  },
  {
   "cell_type": "markdown",
   "id": "8f661aa0",
   "metadata": {},
   "source": [
    "# Question 9\n",
    "Probability Density\n",
    "what if we were asked about the probability that the height of a person chosen randomly\n",
    "will be above 6.5ft?"
   ]
  },
  {
   "cell_type": "code",
   "execution_count": null,
   "id": "a9f52498",
   "metadata": {},
   "outputs": [],
   "source": []
  }
 ],
 "metadata": {
  "kernelspec": {
   "display_name": "Python 3 (ipykernel)",
   "language": "python",
   "name": "python3"
  },
  "language_info": {
   "codemirror_mode": {
    "name": "ipython",
    "version": 3
   },
   "file_extension": ".py",
   "mimetype": "text/x-python",
   "name": "python",
   "nbconvert_exporter": "python",
   "pygments_lexer": "ipython3",
   "version": "3.9.13"
  }
 },
 "nbformat": 4,
 "nbformat_minor": 5
}
